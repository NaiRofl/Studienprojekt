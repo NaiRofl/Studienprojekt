# lädt Lastdaten in csv-Datein für jedes Jahr in DFs und organisiert sie in einem dict, 
# wobei die Dateinamen der Key und die DFs als values dienen

import numpy as np
import pandas as pd
import os

path_folder_list = {"2023": "Load_Data/2023"}   #,"2022":"Load_Data/2022","2021":"Load_Data/2021", "2020":"Load_Data/2020" }
year_dict = {}
for year in path_folder_list:
    dfs_dict = {}
    for filename in os.listdir(path_folder_list[year]):
        if filename.endswith(".csv"):
            file_path = os.path.join(path_folder_list[year], filename)
            df = pd.read_csv(file_path, sep=",")
            dfs_dict[filename] = df
    year_dict[year] = dfs_dict


# ließt die Emissionsfaktoren aus csv-Datei ein und erstellt ein dict, das für jedes Land Emissiosnfaktoren nach Ländern speichert

file_path = 'emission_factors.csv'
df = pd.read_csv(file_path, sep=';')

emission_factors_dict = {}
for country in df.columns[1:]:
    emission_factors_dict[country] = {}
    for i in range(len(df)):
        emission_factors_dict[country][df['countries'][i]] = df[country][i]


# iteriert über DFs in dict, berechnet die Emissionen basierend auf dem dict für die 
# Emissionsfaktoren, speichert die Ergenisse in neuen csv-Dateien

for year in year_dict:
    for df in year_dict[year]:
        emissions_dict = {}
        if df.endswith("_aggregated.csv"):
            pass
        else:
            for source in year_dict[year][df].columns:
                source_type = year_dict[year][df].loc[0, source]

                if source != 'source':
                    
                    emissions_list = [source_type, None]

                    for mwh in year_dict[year][df][source][2:]:
                        try:
                            carrier = emission_factors_dict[source[0:2]]
                            emission_factor = carrier[year_dict[year][df][source][0]]
                            emission = float(mwh) * emission_factor * 10**3
                        except KeyError:
                            emission = 0
                        emissions_list.append(emission)
            
                    emissions_dict[source] = emissions_list
            df_emissions = pd.DataFrame(emissions_dict, index=year_dict[year][df]['source'])
            path_name = f"Emission_Data/{year}"
            file_path = os.path.join(path_name, df)
            df_emissions.to_csv(file_path, index=True, sep=',')


# Code Germany

for year in year_dict:
    for df in year_dict[year]:
        emissions_dict = {}
        if df.endswith("_aggregated.csv"):
            pass
        else:
            for source in year_dict[year][df].columns:
                source_type = year_dict[year][df].loc[0, source]

                if source != 'source':
                    
                    emissions_list = [source_type, None]
            
                    for mwh in year_dict[year][df][source][2:]:
                        try:
                            # only the german factors for
                            carrier = emission_factors_dict['DE']
                            emission_factor = carrier[year_dict[year][df][source][0]]
                            emission = float(mwh) * emission_factor * 10**3
                        except KeyError:
                            emission = 0
                        emissions_list.append(emission)
            
                    emissions_dict[source] = emissions_list
            df_emissions = pd.DataFrame(emissions_dict, index=year_dict[year][df]['source'])
            path_name = f"Emission_Data_DE/{year}"
            file_path = os.path.join(path_name, df)
            df_emissions.to_csv(file_path, index=True, sep=',')
